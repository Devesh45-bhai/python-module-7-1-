{
  "metadata": {
    "kernelspec": {
      "name": "python",
      "display_name": "Python (Pyodide)",
      "language": "python"
    },
    "language_info": {
      "codemirror_mode": {
        "name": "python",
        "version": 3
      },
      "file_extension": ".py",
      "mimetype": "text/x-python",
      "name": "python",
      "nbconvert_exporter": "python",
      "pygments_lexer": "ipython3",
      "version": "3.8"
    }
  },
  "nbformat_minor": 5,
  "nbformat": 4,
  "cells": [
    {
      "id": "d352f35b-94ec-470a-b361-a1d6f234327e",
      "cell_type": "code",
      "source": "# Theory Questions\n\n# Q 1. What is the difference between a function and a method in Python?\n# Ans = The key difference between a function and a method in Python lies in their association:\n# Function: A function is a block of code that performs a specific task and is defined independently of any class.It can be called directly by its name.\n# example:\n     def greet(name):\n        return \"Hello, \" + name\n\n    print(greet(\"World\")) # Output: Hello, World\n# Method: A method is also a block of code that performs a specific task, but it is defined within a class and is associated with the objects (instances) of that class. It is called using the object's name.\n# example: \n     class Dog:\n        def __init__(self, name):\n            self.name = name\n        \n        def bark(self):\n            return \"Woof! I am \" + self.name\n\n    my_dog = Dog(\"Buddy\")\n    print(my_dog.bark()) # Output: Woof! I am Buddy",
      "metadata": {
        "trusted": true
      },
      "outputs": [
        {
          "name": "stderr",
          "output_type": "stream",
          "text": "Traceback (most recent call last):\n  File \"/lib/python3.12/site-packages/pyodide_kernel/kernel.py\", line 90, in run\n    code = await self.lite_transform_manager.transform_cell(code)\n           ^^^^^^^^^^^^^^^^^^^^^^^^^^^^^^^^^^^^^^^^^^^^^^^^^^^^^^\n  File \"/lib/python3.12/site-packages/pyodide_kernel/litetransform.py\", line 34, in transform_cell\n    lines = await self.do_token_transforms(lines)\n            ^^^^^^^^^^^^^^^^^^^^^^^^^^^^^^^^^^^^^\n  File \"/lib/python3.12/site-packages/pyodide_kernel/litetransform.py\", line 39, in do_token_transforms\n    changed, lines = await self.do_one_token_transform(lines)\n                     ^^^^^^^^^^^^^^^^^^^^^^^^^^^^^^^^^^^^^^^^\n  File \"/lib/python3.12/site-packages/pyodide_kernel/litetransform.py\", line 59, in do_one_token_transform\n    tokens_by_line = make_tokens_by_line(lines)\n                     ^^^^^^^^^^^^^^^^^^^^^^^^^^\n  File \"/lib/python3.12/site-packages/IPython/core/inputtransformer2.py\", line 535, in make_tokens_by_line\n    for token in tokenutil.generate_tokens_catch_errors(\n                 ^^^^^^^^^^^^^^^^^^^^^^^^^^^^^^^^^^^^^^^\n  File \"/lib/python3.12/site-packages/IPython/utils/tokenutil.py\", line 40, in generate_tokens_catch_errors\n    for token in tokenize.generate_tokens(readline):\n                 ^^^^^^^^^^^^^^^^^^^^^^^^^^^^^^^^^^\n  File \"/lib/python312.zip/tokenize.py\", line 580, in _generate_tokens_from_c_tokenizer\n    raise e from None\n  File \"/lib/python312.zip/tokenize.py\", line 576, in _generate_tokens_from_c_tokenizer\n    for info in it:\n                ^^\n  File \"<string>\", line 9\n    print(greet(\"World\")) # Output: Hello, World\n                                                ^\nIndentationError: unindent does not match any outer indentation level\n\nIf you suspect this is an IPython 8.23.0 bug, please report it at:\n    https://github.com/ipython/ipython/issues\nor send an email to the mailing list at ipython-dev@python.org\n\nYou can print a more detailed traceback right now with \"%tb\", or use \"%debug\"\nto interactively debug it.\n\nExtra-detailed tracebacks for bug-reporting purposes can be enabled via:\n    %config Application.verbose_crash=True\n\n"
        }
      ],
      "execution_count": null
    },
    {
      "id": "6a7ecfc9-457b-4fa8-9260-650825fd4f77",
      "cell_type": "code",
      "source": "# Q 2. Explain the concept of function arguments and parameters in Python.\n# Ans = In Python, functions can accept inputs, which are specified using parameters and arguments. Parameters are variables listed inside the parentheses in the function definition, while arguments are the actual values passed to the function when it is called.\n\ndef greet(name, greeting): # name and greeting are parameters\n    print(f\"{greeting}, {name}!\")\n\ngreet(\"Alice\", \"Hello\") # \"Alice\" and \"Hello\" are arguments\ngreet(greeting=\"Good morning\", name=\"Bob\") # Keyword arguments\n\n# Functions can have different types of arguments:\n# Positional arguments:\n# These are the most common type, where arguments are passed based on their position in the function definition.\n# Keyword arguments:\n# These are passed with the parameter name, allowing for arguments to be passed in any order.\n# Default arguments:\n# These are assigned a default value in the function definition, which is used if the argument is not provided in the function call.\n# Variable-length arguments:\n# These allow a function to accept any number of arguments, using *args for positional arguments and **kwargs for keyword arguments.\n\ndef add(*args):\n    total = 0\n    for num in args:\n        total += num\n    return total\n\nprint(add(1, 2, 3, 4)) # Output: 10\nPython\n\ndef describe_person(**kwargs):\n    for key, value in kwargs.items():\n        print(f\"{key}: {value}\")\n\ndescribe_person(name=\"Charlie\", age=30, city=\"New York\")\n# Output:\n# name: Charlie\n# age: 30\n# city: New York",
      "metadata": {
        "trusted": true
      },
      "outputs": [
        {
          "name": "stdout",
          "output_type": "stream",
          "text": "Hello, Alice!\nGood morning, Bob!\n10\n"
        },
        {
          "ename": "<class 'NameError'>",
          "evalue": "name 'Python' is not defined",
          "traceback": [
            "\u001b[0;31m---------------------------------------------------------------------------\u001b[0m",
            "\u001b[0;31mNameError\u001b[0m                                 Traceback (most recent call last)",
            "Cell \u001b[0;32mIn[17], line 27\u001b[0m\n\u001b[1;32m     24\u001b[0m     \u001b[38;5;28;01mreturn\u001b[39;00m total\n\u001b[1;32m     26\u001b[0m \u001b[38;5;28mprint\u001b[39m(add(\u001b[38;5;241m1\u001b[39m, \u001b[38;5;241m2\u001b[39m, \u001b[38;5;241m3\u001b[39m, \u001b[38;5;241m4\u001b[39m)) \u001b[38;5;66;03m# Output: 10\u001b[39;00m\n\u001b[0;32m---> 27\u001b[0m \u001b[43mPython\u001b[49m\n\u001b[1;32m     29\u001b[0m \u001b[38;5;28;01mdef\u001b[39;00m \u001b[38;5;21mdescribe_person\u001b[39m(\u001b[38;5;241m*\u001b[39m\u001b[38;5;241m*\u001b[39mkwargs):\n\u001b[1;32m     30\u001b[0m     \u001b[38;5;28;01mfor\u001b[39;00m key, value \u001b[38;5;129;01min\u001b[39;00m kwargs\u001b[38;5;241m.\u001b[39mitems():\n",
            "\u001b[0;31mNameError\u001b[0m: name 'Python' is not defined"
          ],
          "output_type": "error"
        }
      ],
      "execution_count": 19
    },
    {
      "id": "dcd61622-2526-45a1-84b3-4caac75f714c",
      "cell_type": "code",
      "source": "# Q 3. What are the different ways to define and call a function in Python?\n# Ans = In Python, functions can be defined and called in several ways:\n# 1. Standard Function Definition\n# Using the def keyword, followed by the function name, parentheses for parameters, and a colon. The function body is indented. \n\ndef greet(name):\n    \"\"\"This function greets the person passed in as a parameter.\"\"\"\n    print(f\"Hello, {name}!\")\n\ngreet(\"Alice\") # Calling the function\n\n# 2. Lambda Functions\n# Anonymous, small, one-line functions defined using the lambda keyword.\n\nadd = lambda x, y: x + y\nprint(add(5, 3)) # Calling the lambda function\n\n# 3. Nested Functions\n# Defining a function inside another function.\n\ndef outer_function(a, b):\n    def inner_function(x, y):\n        return x * y\n    return inner_function(a, b)\n\nresult = outer_function(5, 10) # Calling the outer function, which calls the inner\nprint(result)\n\n# 4. Functions with Default Parameters\n# Defining a function with default values for some parameters.\n\ndef power(base, exponent=2):\n    return base ** exponent\n\nprint(power(5)) # Calling with default exponent\nprint(power(5, 3)) # Calling with a specified exponent",
      "metadata": {
        "trusted": true
      },
      "outputs": [
        {
          "name": "stdout",
          "output_type": "stream",
          "text": "Hello, Alice!\n8\n50\n25\n125\n"
        }
      ],
      "execution_count": 20
    },
    {
      "id": "eae9f4f1-e5c8-4941-b19f-de6bc5ad67ca",
      "cell_type": "code",
      "source": "# Q 4. What is the purpose of the `return` statement in a Python function?\n''' Ans=The return statement in a Python function serves two primary purposes: \nExiting the function:\nWhen a return statement is encountered, it immediately terminates the execution of the function, and transfers control back to the caller. Any code within the function after the return statement will not be executed.\nReturning a value:\nThe return statement can optionally return a value or values to the caller. This allows a function to produce a result that can be used in other parts of the program. If no value is specified, the function returns None by default.\n'''\n\ndef add(x, y):\n    return x + y\n\nresult = add(5, 3)\nprint(result)  # Output: 8\n\ndef greet(name):\n    print(\"Hello, \" + name + \"!\")\n    return\n\ngreet(\"Alice\") # Output: Hello, Alice!\nprint(greet(\"Bob\")) # Output: None\n\n# A function can return multiple values using tuples, lists, or dictionaries.\n\ndef process_data(data):\n    minimum = min(data)\n    maximum = max(data)\n    average = sum(data) / len(data)\n    return minimum, maximum, average\n\ndata = [1, 5, 2, 8, 3]\nmin_val, max_val, avg_val = process_data(data)\nprint(f\"Minimum: {min_val}, Maximum: {max_val}, Average: {avg_val}\")\n# Output: Minimum: 1, Maximum: 8, Average: 3.8\n\n",
      "metadata": {
        "trusted": true
      },
      "outputs": [
        {
          "name": "stdout",
          "output_type": "stream",
          "text": "8\nHello, Alice!\nHello, Bob!\nNone\nMinimum: 1, Maximum: 8, Average: 3.8\n"
        }
      ],
      "execution_count": 21
    },
    {
      "id": "e166a32f-590d-4402-a997-29cc3075017d",
      "cell_type": "code",
      "source": "# Q 5. What are iterators in Python and how do they differ from iterables?\n''' Ans = An iterator is an object that contains a countable number of values. An iterator is an object that can be iterated upon, \nmeaning that you can traverse through all the values. Technically, in Python, an iterator is an object which implements the iterator protocol,\nwhich consist of the methods __iter__() and __next__() .\nIterators control loops, allowing you to traverse arbitrary data containers one item at a time. \nIterables, on the other hand, provide the data that you want to iterate over.\n'''",
      "metadata": {
        "trusted": true
      },
      "outputs": [
        {
          "execution_count": 20,
          "output_type": "execute_result",
          "data": {
            "text/plain": "' Ans = An iterator is an object that contains a countable number of values. An iterator is an object that can be iterated upon, \\nmeaning that you can traverse through all the values. Technically, in Python, an iterator is an object which implements the iterator protocol,\\nwhich consist of the methods __iter__() and __next__() .\\nIterators control loops, allowing you to traverse arbitrary data containers one item at a time. \\nIterables, on the other hand, provide the data that you want to iterate over.\\n'"
          },
          "metadata": {}
        }
      ],
      "execution_count": 22
    },
    {
      "id": "9ea022ae-856c-44ce-97aa-5cbfde45481a",
      "cell_type": "code",
      "source": "# Q 6. Explain the concept of generators in Python and how they are defined.\n''' Ans = A Python generator function is defined like a normal function. However, in the normal function, we use the return keyword, \nwhereas in generators, we use the yield keyword to generate a value. If yield is present in the body of the def, \nthat function will automatically become a generator function.\n'''",
      "metadata": {
        "trusted": true
      },
      "outputs": [
        {
          "execution_count": 21,
          "output_type": "execute_result",
          "data": {
            "text/plain": "' Ans = A Python generator function is defined like a normal function. However, in the normal function, we use the return keyword, \\nwhereas in generators, we use the yield keyword to generate a value. If yield is present in the body of the def, \\nthat function will automatically become a generator function.\\n'"
          },
          "metadata": {}
        }
      ],
      "execution_count": 23
    },
    {
      "id": "ecaab7c8-2b43-494a-a3ab-e875d3602653",
      "cell_type": "code",
      "source": "# Q 7. What are the advantages of using generators over regular functions?\n''' Ans = Generators offer several advantages over regular functions, primarily related to memory efficiency and lazy evaluation.\nUnlike regular functions that return a complete result set, generators produce values one at a time, allowing for efficient handling \nof large datasets or infinite sequences without exhausting memory. This \"lazy evaluation\" means processing only the data needed at the moment, \nand resuming from where the generator left off when called again. \nHere's a more detailed look at the advantages:\n1. Memory Efficiency:\nGenerators create values on-demand, rather than storing the entire sequence in memory. \nThis is crucial for dealing with large datasets or infinite sequences where storing everything at once would be impractical. \nFor example, a generator can efficiently produce a sequence of numbers without loading the entire sequence into memory. \n2. Lazy Evaluation:\nGenerators pause their execution after each yield statement, maintaining their state. \nThis allows the generator to resume from the last yielded value when called again. \nLazy evaluation enables efficient processing of data in chunks, as opposed to processing everything at once. \n3. Easy Implementation: \nGenerators are relatively easy to implement, especially when compared to creating custom iterators or classes. \nThey use the yield keyword to produce values, and their state is automatically managed, making them straightforward to work with. \n4. Representing Infinite Streams: \nGenerators are well-suited for representing infinite sequences of data, as they only produce values one at a time.\nThis is useful for applications where data is streamed continuously or when dealing with unbounded data sources.\n'''",
      "metadata": {
        "trusted": true
      },
      "outputs": [
        {
          "execution_count": 22,
          "output_type": "execute_result",
          "data": {
            "text/plain": "' Ans = Generators offer several advantages over regular functions, primarily related to memory efficiency and lazy evaluation.\\nUnlike regular functions that return a complete result set, generators produce values one at a time, allowing for efficient handling \\nof large datasets or infinite sequences without exhausting memory. This \"lazy evaluation\" means processing only the data needed at the moment, \\nand resuming from where the generator left off when called again. \\nHere\\'s a more detailed look at the advantages:\\n1. Memory Efficiency:\\nGenerators create values on-demand, rather than storing the entire sequence in memory. \\nThis is crucial for dealing with large datasets or infinite sequences where storing everything at once would be impractical. \\nFor example, a generator can efficiently produce a sequence of numbers without loading the entire sequence into memory. \\n2. Lazy Evaluation:\\nGenerators pause their execution after each yield statement, maintaining their state. \\nThis allows the generator to resume from the last yielded value when called again. \\nLazy evaluation enables efficient processing of data in chunks, as opposed to processing everything at once. \\n3. Easy Implementation: \\nGenerators are relatively easy to implement, especially when compared to creating custom iterators or classes. \\nThey use the yield keyword to produce values, and their state is automatically managed, making them straightforward to work with. \\n4. Representing Infinite Streams: \\nGenerators are well-suited for representing infinite sequences of data, as they only produce values one at a time.\\nThis is useful for applications where data is streamed continuously or when dealing with unbounded data sources.\\n'"
          },
          "metadata": {}
        }
      ],
      "execution_count": 24
    },
    {
      "id": "db4387a9-60e2-4b34-ba74-8cd8659e1ee1",
      "cell_type": "code",
      "source": "# Q 8. What is a lambda function in Python and when is it typically used?\n''' Ans = In Python, a lambda function, also known as an anonymous function, is a concise way to define a function within a single line.\nIt's primarily used for short, simple operations where a full function definition using def would be overly verbose. \nHere's a breakdown of lambda functions:\nSyntax: lambda arguments: expression. \nArguments: Can accept any number of arguments, separated by commas. \nExpression: Must be a single expression that is returned, and no return keyword is needed. \nAnonymous: They don't have a name, which is why they're also called anonymous functions. \nCommon Uses:\nHigher-order functions:\nLambda functions are frequently used as arguments to higher-order functions like map(), filter(), and sorted().\nmap(): Applies a function to all items in an iterable.\nfilter(): Filters an iterable based on a condition.\nsorted(): Sorts a list based on a key (often a lambda function).\nSimple calculations:\nUseful for quick, one-off calculations that don't require a named function.\nReducing code clutter:\nCan make code more readable by replacing short, temporary function definitions. \n'''",
      "metadata": {
        "trusted": true
      },
      "outputs": [
        {
          "execution_count": 23,
          "output_type": "execute_result",
          "data": {
            "text/plain": "\" Ans = In Python, a lambda function, also known as an anonymous function, is a concise way to define a function within a single line.\\nIt's primarily used for short, simple operations where a full function definition using def would be overly verbose. \\nHere's a breakdown of lambda functions:\\nSyntax: lambda arguments: expression. \\nArguments: Can accept any number of arguments, separated by commas. \\nExpression: Must be a single expression that is returned, and no return keyword is needed. \\nAnonymous: They don't have a name, which is why they're also called anonymous functions. \\nCommon Uses:\\nHigher-order functions:\\nLambda functions are frequently used as arguments to higher-order functions like map(), filter(), and sorted().\\nmap(): Applies a function to all items in an iterable.\\nfilter(): Filters an iterable based on a condition.\\nsorted(): Sorts a list based on a key (often a lambda function).\\nSimple calculations:\\nUseful for quick, one-off calculations that don't require a named function.\\nReducing code clutter:\\nCan make code more readable by replacing short, temporary function definitions. \\n\""
          },
          "metadata": {}
        }
      ],
      "execution_count": 25
    },
    {
      "id": "ebc7cf4c-d34b-4ee6-a4e6-684b0a3aabf8",
      "cell_type": "code",
      "source": "# Q 9. Explain the purpose and usage of the `map()` function in Python.\n# Ans = The map() function in Python applies a given function to each item of an iterable (like a list or tuple) and returns an iterator that yields the results. This avoids explicit loops, leading to more concise and readable code. \n# map() takes two arguments: A function to apply and One or more iterables.\n\ndef square(x):\n  return x * x\n\nnumbers = [1, 2, 3, 4, 5]\nsquared_numbers = map(square, numbers) # Returns a map object (iterator)\nsquared_numbers_list = list(squared_numbers) # Convert to list to view results\nprint(squared_numbers_list) # Output: [1, 4, 9, 16, 25]\n\n# Using lambda functions for conciseness\ncubed_numbers = list(map(lambda x: x**3, numbers))\nprint(cubed_numbers) # Output: [1, 8, 27, 64, 125]",
      "metadata": {
        "trusted": true
      },
      "outputs": [
        {
          "name": "stdout",
          "output_type": "stream",
          "text": "[1, 4, 9, 16, 25]\n[1, 8, 27, 64, 125]\n"
        }
      ],
      "execution_count": 26
    },
    {
      "id": "1963a76d-5248-4a85-a873-d835074cd2cf",
      "cell_type": "code",
      "source": "# Q 11. Using pen & Paper write the internal mechanism for sum operation using  reduce function on this given\n# list:[47,11,42,13];\n\nfrom functools import reduce\n\n# Function to add two numbers\ndef add(x, y):\n    return x + y\n\na = [47,11,42,13]\nres = reduce(add, a)\n\nprint(res)  ",
      "metadata": {
        "trusted": true
      },
      "outputs": [
        {
          "name": "stdout",
          "output_type": "stream",
          "text": "113\n"
        }
      ],
      "execution_count": 27
    },
    {
      "id": "7ebf193c-dd70-4b3e-a339-3ec61302e893",
      "cell_type": "code",
      "source": "# Practical Questions:\n\n# Q 1. Write a Python function that takes a list of numbers as input and returns the sum of all even numbers in the list.\n\n\nN = int(input())\nList = []\nlist = []\nwhile N > 0:\n    List.append(int(input()))\n    N -= 1\n\n        \nfor num in List:\n    if num % 2 == 0:\n        list.append(num)\n    else: \n        pass\nprint(sum(list))\n",
      "metadata": {
        "trusted": true
      },
      "outputs": [],
      "execution_count": null
    },
    {
      "id": "db9cc234-f09a-47d5-a704-ae6fc18b9ad2",
      "cell_type": "code",
      "source": "# Q 2. Create a Python function that accepts a string and returns the reverse of that string.\n\n# Here is a Python function that accepts a string as input and returns its reversed version:\n\ndef reverse_string(s):\n    return s[::-1]\n# This function uses string slicing with a step of -1 to efficiently reverse the input string s. \n# The [::-1] slice creates a reversed copy of the string without modifying the original. It then returns the reversed string.",
      "metadata": {
        "trusted": true
      },
      "outputs": [],
      "execution_count": 28
    },
    {
      "id": "2086f1a8-9794-4f4f-8590-b316fc845251",
      "cell_type": "code",
      "source": "# Q 3. Implement a Python function that takes a list of integers and returns a new list containing the squares of each number.\n\n# Define a function named 'printValues' that generates a list of squares of numbers from 1 to 20\ndef printValues():\n    # Create an empty list 'l'\n    l = list()\n    \n    # Iterate through numbers from 1 to 20 (inclusive)\n    for i in range(1, 21):\n        # Calculate the square of 'i' and append it to the list 'l'\n        l.append(i**2)\n    \n    # Print the list containing squares of numbers from 1 to 20\n    print(l)\n\n# Call the 'printValues' function to generate and print the list of squares\nprintValues() ",
      "metadata": {
        "trusted": true
      },
      "outputs": [
        {
          "name": "stdout",
          "output_type": "stream",
          "text": "[1, 4, 9, 16, 25, 36, 49, 64, 81, 100, 121, 144, 169, 196, 225, 256, 289, 324, 361, 400]\n"
        }
      ],
      "execution_count": 29
    },
    {
      "id": "3d75cda2-e208-4d0b-a5b2-033441691bdb",
      "cell_type": "code",
      "source": "# Q 4. Write a Python function that checks if a given number is prime or not from 1 to 200.\n\ndef is_prime(number):\n    \"\"\"\n    Checks if a number is prime.\n\n    Args:\n        number: An integer.\n\n    Returns:\n        True if the number is prime, False otherwise.\n    \"\"\"\n    if number <= 1:\n        return False\n    for i in range(2, int(number**0.5) + 1):\n        if number % i == 0:\n            return False\n    return True\n\ndef find_primes_in_range(start, end):\n    \"\"\"\n    Finds all prime numbers within a specified range.\n\n    Args:\n        start: The starting number of the range (inclusive).\n        end: The ending number of the range (inclusive).\n\n    Returns:\n        A list of prime numbers within the range.\n    \"\"\"\n    primes = []\n    for number in range(start, end + 1):\n        if is_prime(number):\n            primes.append(number)\n    return primes\n\nif __name__ == \"__main__\":\n    primes_in_range = find_primes_in_range(1, 200)\n    print(\"Prime numbers between 1 and 200:\", primes_in_range)",
      "metadata": {
        "trusted": true
      },
      "outputs": [
        {
          "name": "stdout",
          "output_type": "stream",
          "text": "Prime numbers between 1 and 200: [2, 3, 5, 7, 11, 13, 17, 19, 23, 29, 31, 37, 41, 43, 47, 53, 59, 61, 67, 71, 73, 79, 83, 89, 97, 101, 103, 107, 109, 113, 127, 131, 137, 139, 149, 151, 157, 163, 167, 173, 179, 181, 191, 193, 197, 199]\n"
        }
      ],
      "execution_count": 30
    },
    {
      "id": "e397d7eb-74bd-4646-9143-4f011749c60e",
      "cell_type": "code",
      "source": "# Q 5. Create an iterator class in Python that generates the Fibonacci sequence up to a specified number of terms.\n\nclass FibonacciIterator:\n    def __init__(self, limit):\n        self.limit = limit\n        self.current = 0\n        self.next_num = 1\n        self.counter = 0\n\n    def __iter__(self):\n        return self\n\n    def __next__(self):\n        if self.counter < self.limit:\n            self.counter += 1\n            result = self.current\n            self.current, self.next_num = self.next_num, self.current + self.next_num\n            return result\n        else:\n            raise StopIteration\n\n# Example usage:\nfib_iter = FibonacciIterator(10)\nfor num in fib_iter:\n    print(num)",
      "metadata": {
        "trusted": true
      },
      "outputs": [
        {
          "name": "stdout",
          "output_type": "stream",
          "text": "0\n1\n1\n2\n3\n5\n8\n13\n21\n34\n"
        }
      ],
      "execution_count": 31
    },
    {
      "id": "7c2fd66c-d08c-4148-92ad-87eac2d7cc89",
      "cell_type": "code",
      "source": "# Q 6.  Write a generator function in Python that yields the powers of 2 up to a given exponent.\n\ndef power_generator(base, exponent):\n    result = 1\n    for i in range(exponent + 1):\n        yield result\n        result *= base\n\n# Accept input from the user\nbase = int(input(\"Input the base number: \"))\nexponent = int(input(\"Input the exponent: \"))\n\n# Create the generator object\npower_gen = power_generator(base, exponent)\n\n# Generate and print the powers\nprint(f\"Powers of {base} up to exponent {exponent}:\")\nfor power in power_gen:\n    print(power)",
      "metadata": {
        "trusted": true
      },
      "outputs": [
        {
          "ename": "<class 'TypeError'>",
          "evalue": "int() argument must be a string, a bytes-like object or a real number, not 'PyodideFuture'",
          "traceback": [
            "\u001b[0;31m---------------------------------------------------------------------------\u001b[0m",
            "\u001b[0;31mTypeError\u001b[0m                                 Traceback (most recent call last)",
            "Cell \u001b[0;32mIn[31], line 10\u001b[0m\n\u001b[1;32m      7\u001b[0m         result \u001b[38;5;241m*\u001b[39m\u001b[38;5;241m=\u001b[39m base\n\u001b[1;32m      9\u001b[0m \u001b[38;5;66;03m# Accept input from the user\u001b[39;00m\n\u001b[0;32m---> 10\u001b[0m base \u001b[38;5;241m=\u001b[39m \u001b[38;5;28;43mint\u001b[39;49m\u001b[43m(\u001b[49m\u001b[38;5;28;43minput\u001b[39;49m\u001b[43m(\u001b[49m\u001b[38;5;124;43m\"\u001b[39;49m\u001b[38;5;124;43mInput the base number: \u001b[39;49m\u001b[38;5;124;43m\"\u001b[39;49m\u001b[43m)\u001b[49m\u001b[43m)\u001b[49m\n\u001b[1;32m     11\u001b[0m exponent \u001b[38;5;241m=\u001b[39m \u001b[38;5;28mint\u001b[39m(\u001b[38;5;28minput\u001b[39m(\u001b[38;5;124m\"\u001b[39m\u001b[38;5;124mInput the exponent: \u001b[39m\u001b[38;5;124m\"\u001b[39m))\n\u001b[1;32m     13\u001b[0m \u001b[38;5;66;03m# Create the generator object\u001b[39;00m\n",
            "\u001b[0;31mTypeError\u001b[0m: int() argument must be a string, a bytes-like object or a real number, not 'PyodideFuture'"
          ],
          "output_type": "error"
        }
      ],
      "execution_count": 33
    },
    {
      "id": "9f047ace-a56d-47e1-aeb3-9e0cef1a5d62",
      "cell_type": "code",
      "source": "# Q 7. Implement a generator function that reads a file line by line and yields each line as a string.\n\ndef read_file_lines(filepath):\n    \"\"\"\n    Reads a file line by line and yields each line.\n\n    Args:\n        filepath (str): The path to the file.\n\n    Yields:\n        str: Each line of the file.\n    \"\"\"\n    try:\n        with open(filepath, 'r') as file:\n            for line in file:\n                yield line.rstrip('\\n')\n    except FileNotFoundError:\n        yield f\"File not found: {filepath}\"\n\n\n# Example usage:\nif __name__ == '__main__':\n    # Create a dummy text file for testing\n    with open('sample.txt', 'w') as f:\n        f.write(\"This is line 1.\\n\")\n        f.write(\"This is line 2.\\n\")\n        f.write(\"This is line 3.\")\n\n    # Read the file using the generator and print each line\n    for line in read_file_lines('sample.txt'):\n        print(line)\n\n    # Clean up the dummy file\n    import os\n    os.remove('sample.txt')",
      "metadata": {
        "trusted": true
      },
      "outputs": [],
      "execution_count": null
    },
    {
      "id": "7af833db-0361-4a90-a430-9f5d8f32395f",
      "cell_type": "code",
      "source": "# Q 8. Use a lambda function in Python to sort a list of tuples based on the second element of each tuple.\n\n# Create a list of tuples named 'subject_marks', each tuple containing a subject and its corresponding marks\nsubject_marks = [('English', 88), ('Science', 90), ('Maths', 97), ('Social sciences', 82)]\n\n# Display the original list of tuples to the console\nprint(\"Original list of tuples:\")\nprint(subject_marks)\n\n# Sort the 'subject_marks' list of tuples based on the second element of each tuple (the marks),\n# using a lambda function as the sorting key to extract the second element\nsubject_marks.sort(key=lambda x: x[1])\n\n# Display the sorted list of tuples to the console\nprint(\"\\nSorting the List of Tuples:\")\nprint(subject_marks) ",
      "metadata": {
        "trusted": true
      },
      "outputs": [],
      "execution_count": null
    },
    {
      "id": "26d8c77a-43db-4f18-8e6a-e638cf724a41",
      "cell_type": "code",
      "source": "# Q 9. Write a Python program that uses `map()` to convert a list of temperatures from Celsius to Fahrenheit.\n\n# Converting the temperature to Fahrenheit using the formula\nf = (c * 1.8) + 32\n\nprint(str(c))\nprint(str(f))\n",
      "metadata": {
        "trusted": true
      },
      "outputs": [],
      "execution_count": null
    },
    {
      "id": "e4966541-87ab-487d-a935-d6bcee43b060",
      "cell_type": "code",
      "source": "# Q 10. Create a Python program that uses `filter()` to remove all the vowels from a given string.\n\nstring = \"PrepInsta\"\n\nvowels = ['a', 'e', 'i', 'o', 'u', 'A', 'E', 'I', 'O', 'U']\nresult = \"\"\n\nfor i in range(len(string)):\n    if string[i] not in vowels:\n        result = result + string[i]\n\nprint(\"\\nAfter removing Vowels: \", result)",
      "metadata": {
        "trusted": true
      },
      "outputs": [],
      "execution_count": null
    },
    {
      "id": "2ee0a641-305a-49f9-91ab-9fde2d9186f7",
      "cell_type": "code",
      "source": "# Q 11.  Imagine an accounting routine used in a book shop. It works on a list with sublists, which look like this:....\n\norders = [\n    [\"34587\", \"Learning Python, Mark Lutz\", 4, 40.95],\n    [\"98762\", \"Programming Python, Mark Lutz\", 5, 56.80],\n    [\"77226\", \"Head First Python, Paul Barry\", 3, 32.95],\n    [\"88112\", \"Python Cookbook, David Beazley\", 3, 24.99]\n]\n\nresult = list(map(lambda x: (x[0], x[2] * x[3] + 10 if x[2] * x[3] < 100 else x[2] * x[3]), orders))\n\nprint(result)",
      "metadata": {
        "trusted": true
      },
      "outputs": [],
      "execution_count": null
    },
    {
      "id": "7e4e5245-1a5d-478d-89d2-504065727e3d",
      "cell_type": "code",
      "source": "",
      "metadata": {
        "trusted": true
      },
      "outputs": [],
      "execution_count": null
    },
    {
      "id": "1e03fd65-d38b-4465-be79-d65e6885b222",
      "cell_type": "code",
      "source": "",
      "metadata": {
        "trusted": true
      },
      "outputs": [],
      "execution_count": null
    }
  ]
}